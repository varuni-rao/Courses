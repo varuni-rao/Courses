{
 "cells": [
  {
   "cell_type": "raw",
   "id": "01416330",
   "metadata": {
    "id": "Tce3stUlHN0L",
    "papermill": {
     "duration": 0.008846,
     "end_time": "2024-11-13T14:50:33.306439",
     "exception": false,
     "start_time": "2024-11-13T14:50:33.297593",
     "status": "completed"
    },
    "tags": []
   },
   "source": [
    "##### Copyright 2024 Google LLC."
   ]
  },
  {
   "cell_type": "code",
   "execution_count": 1,
   "id": "e5060454",
   "metadata": {
    "cellView": "form",
    "execution": {
     "iopub.execute_input": "2024-11-13T14:50:33.325025Z",
     "iopub.status.busy": "2024-11-13T14:50:33.324482Z",
     "iopub.status.idle": "2024-11-13T14:50:33.331076Z",
     "shell.execute_reply": "2024-11-13T14:50:33.329968Z"
    },
    "id": "tuOe1ymfHZPu",
    "jupyter": {
     "source_hidden": true
    },
    "papermill": {
     "duration": 0.018656,
     "end_time": "2024-11-13T14:50:33.333473",
     "exception": false,
     "start_time": "2024-11-13T14:50:33.314817",
     "status": "completed"
    },
    "tags": []
   },
   "outputs": [],
   "source": [
    "# @title Licensed under the Apache License, Version 2.0 (the \"License\");\n",
    "# you may not use this file except in compliance with the License.\n",
    "# You may obtain a copy of the License at\n",
    "#\n",
    "# https://www.apache.org/licenses/LICENSE-2.0\n",
    "#\n",
    "# Unless required by applicable law or agreed to in writing, software\n",
    "# distributed under the License is distributed on an \"AS IS\" BASIS,\n",
    "# WITHOUT WARRANTIES OR CONDITIONS OF ANY KIND, either express or implied.\n",
    "# See the License for the specific language governing permissions and\n",
    "# limitations under the License."
   ]
  },
  {
   "cell_type": "markdown",
   "id": "3783f39a",
   "metadata": {
    "id": "CsVPnR8VbXE6",
    "papermill": {
     "duration": 0.007757,
     "end_time": "2024-11-13T14:50:33.349281",
     "exception": false,
     "start_time": "2024-11-13T14:50:33.341524",
     "status": "completed"
    },
    "tags": []
   },
   "source": [
    "# Day 2 - Document Q&A with RAG using Chroma\n",
    "\n",
    "Welcome back to the Kaggle 5-day Generative AI course!\n",
    "\n",
    "**NOTE**: The Day 1 notebook contains lots of information for getting set up with Kaggle Notebooks. If you are having any issues, please [check out the troubleshooting steps there](https://www.kaggle.com/code/markishere/day-1-prompting#Get-started-with-Kaggle-notebooks).\n",
    "\n",
    "Two big limitations of LLMs are 1) that they only \"know\" the information that they were trained on, and 2) that they have limited input context windows. A way to address both of these limitations is to use a technique called Retrieval Augmented Generation, or RAG. A RAG system has three stages:\n",
    "\n",
    "1. Indexing\n",
    "2. Retrieval\n",
    "3. Generation\n",
    "\n",
    "Indexing happens ahead of time, and allows you to quickly look up relevant information at query-time. When a query comes in, you retrieve relevant documents, combine them with your instructions and the user's query, and have the LLM generate a tailored answer in natural language using the supplied information. This allows you to provide information that the model hasn't seen before, such as product-specific knowledge or live weather updates.\n",
    "\n",
    "In this notebook you will use the Gemini API to create a vector database, retrieve answers to questions from the database and generate a final answer. You will use [Chroma](https://docs.trychroma.com/), an open-source vector database. With Chroma, you can store embeddings alongside metadata, embed documents and queries, and search your documents.\n",
    "\n",
    "## For help\n",
    "\n",
    "**Common issues are covered in the [FAQ and troubleshooting guide](https://www.kaggle.com/code/markishere/day-0-troubleshooting-and-faqs).**\n"
   ]
  },
  {
   "cell_type": "markdown",
   "id": "80394eb9",
   "metadata": {
    "id": "akuOzK4dJl3j",
    "papermill": {
     "duration": 0.007681,
     "end_time": "2024-11-13T14:50:33.364979",
     "exception": false,
     "start_time": "2024-11-13T14:50:33.357298",
     "status": "completed"
    },
    "tags": []
   },
   "source": [
    "## Setup\n",
    "\n",
    "First, install ChromaDB and the Gemini API Python SDK."
   ]
  },
  {
   "cell_type": "code",
   "execution_count": 2,
   "id": "d525edff",
   "metadata": {
    "execution": {
     "iopub.execute_input": "2024-11-13T14:50:33.383164Z",
     "iopub.status.busy": "2024-11-13T14:50:33.382365Z",
     "iopub.status.idle": "2024-11-13T14:51:30.356087Z",
     "shell.execute_reply": "2024-11-13T14:51:30.354659Z"
    },
    "id": "JbXe7Oodc5dP",
    "papermill": {
     "duration": 56.985717,
     "end_time": "2024-11-13T14:51:30.358766",
     "exception": false,
     "start_time": "2024-11-13T14:50:33.373049",
     "status": "completed"
    },
    "tags": []
   },
   "outputs": [
    {
     "name": "stdout",
     "output_type": "stream",
     "text": [
      "\u001b[31mERROR: pip's dependency resolver does not currently take into account all the packages that are installed. This behaviour is the source of the following dependency conflicts.\r\n",
      "kfp 2.5.0 requires google-cloud-storage<3,>=2.2.1, but you have google-cloud-storage 1.44.0 which is incompatible.\r\n",
      "kfp 2.5.0 requires kubernetes<27,>=8.0.0, but you have kubernetes 31.0.0 which is incompatible.\u001b[0m\u001b[31m\r\n",
      "\u001b[0mNote: you may need to restart the kernel to use updated packages.\n"
     ]
    }
   ],
   "source": [
    "%pip install -U -q \"google-generativeai>=0.8.3\" chromadb"
   ]
  },
  {
   "cell_type": "markdown",
   "id": "702952bc",
   "metadata": {
    "papermill": {
     "duration": 0.007937,
     "end_time": "2024-11-13T14:51:30.375001",
     "exception": false,
     "start_time": "2024-11-13T14:51:30.367064",
     "status": "completed"
    },
    "tags": []
   },
   "source": [
    "You may see output containing `ERROR: pip's dependency resolver does not currently take into account all the packages that are installed` - this is OK, the packages are still installed and compatible for this codelab. Also note that you do not have to restart the kernel."
   ]
  },
  {
   "cell_type": "code",
   "execution_count": 3,
   "id": "a09e2de5",
   "metadata": {
    "execution": {
     "iopub.execute_input": "2024-11-13T14:51:30.393328Z",
     "iopub.status.busy": "2024-11-13T14:51:30.392840Z",
     "iopub.status.idle": "2024-11-13T14:51:31.530278Z",
     "shell.execute_reply": "2024-11-13T14:51:31.529392Z"
    },
    "id": "muuhsDmmKdHi",
    "papermill": {
     "duration": 1.149799,
     "end_time": "2024-11-13T14:51:31.532965",
     "exception": false,
     "start_time": "2024-11-13T14:51:30.383166",
     "status": "completed"
    },
    "tags": []
   },
   "outputs": [],
   "source": [
    "import google.generativeai as genai\n",
    "from IPython.display import Markdown"
   ]
  },
  {
   "cell_type": "markdown",
   "id": "bdb49449",
   "metadata": {
    "id": "FQOGMejVu-6D",
    "papermill": {
     "duration": 0.008165,
     "end_time": "2024-11-13T14:51:31.549497",
     "exception": false,
     "start_time": "2024-11-13T14:51:31.541332",
     "status": "completed"
    },
    "tags": []
   },
   "source": [
    "### Set up your API key\n",
    "\n",
    "To run the following cell, your API key must be stored it in a [Kaggle secret](https://www.kaggle.com/discussions/product-feedback/114053) named `GOOGLE_API_KEY`.\n",
    "\n",
    "If you don't already have an API key, you can grab one from [AI Studio](https://aistudio.google.com/app/apikey). You can find [detailed instructions in the docs](https://ai.google.dev/gemini-api/docs/api-key).\n",
    "\n",
    "To make the key available through Kaggle secrets, choose `Secrets` from the `Add-ons` menu and follow the instructions to add your key or enable it for this notebook."
   ]
  },
  {
   "cell_type": "code",
   "execution_count": 4,
   "id": "44cc3e61",
   "metadata": {
    "execution": {
     "iopub.execute_input": "2024-11-13T14:51:31.568151Z",
     "iopub.status.busy": "2024-11-13T14:51:31.567299Z",
     "iopub.status.idle": "2024-11-13T14:51:31.785120Z",
     "shell.execute_reply": "2024-11-13T14:51:31.783994Z"
    },
    "id": "ysayz8skEfBW",
    "papermill": {
     "duration": 0.229982,
     "end_time": "2024-11-13T14:51:31.787769",
     "exception": false,
     "start_time": "2024-11-13T14:51:31.557787",
     "status": "completed"
    },
    "tags": []
   },
   "outputs": [],
   "source": [
    "from kaggle_secrets import UserSecretsClient\n",
    "\n",
    "GOOGLE_API_KEY = UserSecretsClient().get_secret(\"GOOGLE_API_KEY\")\n",
    "genai.configure(api_key=GOOGLE_API_KEY)"
   ]
  },
  {
   "cell_type": "markdown",
   "id": "9c6055df",
   "metadata": {
    "id": "52b101760a45",
    "papermill": {
     "duration": 0.008609,
     "end_time": "2024-11-13T14:51:31.804834",
     "exception": false,
     "start_time": "2024-11-13T14:51:31.796225",
     "status": "completed"
    },
    "tags": []
   },
   "source": [
    "If you received an error response along the lines of `No user secrets exist for kernel id ...`, then you need to add your API key via `Add-ons`, `Secrets` **and** enable it.\n",
    "\n",
    "![Screenshot of the checkbox to enable GOOGLE_API_KEY secret](https://storage.googleapis.com/kaggle-media/Images/5gdai_sc_3.png)"
   ]
  },
  {
   "cell_type": "markdown",
   "id": "f733780d",
   "metadata": {
    "id": "fegnGFpMS4AI",
    "papermill": {
     "duration": 0.00796,
     "end_time": "2024-11-13T14:51:31.821094",
     "exception": false,
     "start_time": "2024-11-13T14:51:31.813134",
     "status": "completed"
    },
    "tags": []
   },
   "source": [
    "### Explore available models\n",
    "\n",
    "You will be using the [`embedContent`](https://ai.google.dev/api/embeddings#method:-models.embedcontent) API method to calculate embeddings in this guide. Find a model that supports it through the [`models.list`](https://ai.google.dev/api/models#method:-models.list) endpoint. You can also find more information about the embedding models on [the models page](https://ai.google.dev/gemini-api/docs/models/gemini#text-embedding).\n",
    "\n",
    "`text-embedding-004` is the most recent embedding model, so you will use it for this exercise."
   ]
  },
  {
   "cell_type": "code",
   "execution_count": 5,
   "id": "8be87b4d",
   "metadata": {
    "execution": {
     "iopub.execute_input": "2024-11-13T14:51:31.840032Z",
     "iopub.status.busy": "2024-11-13T14:51:31.838976Z",
     "iopub.status.idle": "2024-11-13T14:51:32.041455Z",
     "shell.execute_reply": "2024-11-13T14:51:32.039873Z"
    },
    "id": "Km5d13_FS2Q_",
    "papermill": {
     "duration": 0.214685,
     "end_time": "2024-11-13T14:51:32.044099",
     "exception": false,
     "start_time": "2024-11-13T14:51:31.829414",
     "status": "completed"
    },
    "tags": []
   },
   "outputs": [
    {
     "name": "stdout",
     "output_type": "stream",
     "text": [
      "models/embedding-001\n",
      "models/text-embedding-004\n"
     ]
    }
   ],
   "source": [
    "for m in genai.list_models():\n",
    "    if \"embedContent\" in m.supported_generation_methods:\n",
    "        print(m.name)"
   ]
  },
  {
   "cell_type": "markdown",
   "id": "f8cfe60a",
   "metadata": {
    "id": "3XWKXoXwOGxS",
    "papermill": {
     "duration": 0.008201,
     "end_time": "2024-11-13T14:51:32.061073",
     "exception": false,
     "start_time": "2024-11-13T14:51:32.052872",
     "status": "completed"
    },
    "tags": []
   },
   "source": [
    "### Data\n",
    "\n",
    "Here is a small set of documents you will use to create an embedding database."
   ]
  },
  {
   "cell_type": "code",
   "execution_count": 6,
   "id": "a8381e07",
   "metadata": {
    "execution": {
     "iopub.execute_input": "2024-11-13T14:51:32.081093Z",
     "iopub.status.busy": "2024-11-13T14:51:32.079827Z",
     "iopub.status.idle": "2024-11-13T14:51:32.087863Z",
     "shell.execute_reply": "2024-11-13T14:51:32.086444Z"
    },
    "id": "k8nsbhFJKmG-",
    "papermill": {
     "duration": 0.020628,
     "end_time": "2024-11-13T14:51:32.090487",
     "exception": false,
     "start_time": "2024-11-13T14:51:32.069859",
     "status": "completed"
    },
    "tags": []
   },
   "outputs": [],
   "source": [
    "DOCUMENT1 = \"Operating the Climate Control System  Your Googlecar has a climate control system that allows you to adjust the temperature and airflow in the car. To operate the climate control system, use the buttons and knobs located on the center console.  Temperature: The temperature knob controls the temperature inside the car. Turn the knob clockwise to increase the temperature or counterclockwise to decrease the temperature. Airflow: The airflow knob controls the amount of airflow inside the car. Turn the knob clockwise to increase the airflow or counterclockwise to decrease the airflow. Fan speed: The fan speed knob controls the speed of the fan. Turn the knob clockwise to increase the fan speed or counterclockwise to decrease the fan speed. Mode: The mode button allows you to select the desired mode. The available modes are: Auto: The car will automatically adjust the temperature and airflow to maintain a comfortable level. Cool: The car will blow cool air into the car. Heat: The car will blow warm air into the car. Defrost: The car will blow warm air onto the windshield to defrost it.\"\n",
    "DOCUMENT2 = 'Your Googlecar has a large touchscreen display that provides access to a variety of features, including navigation, entertainment, and climate control. To use the touchscreen display, simply touch the desired icon.  For example, you can touch the \"Navigation\" icon to get directions to your destination or touch the \"Music\" icon to play your favorite songs.'\n",
    "DOCUMENT3 = \"Shifting Gears Your Googlecar has an automatic transmission. To shift gears, simply move the shift lever to the desired position.  Park: This position is used when you are parked. The wheels are locked and the car cannot move. Reverse: This position is used to back up. Neutral: This position is used when you are stopped at a light or in traffic. The car is not in gear and will not move unless you press the gas pedal. Drive: This position is used to drive forward. Low: This position is used for driving in snow or other slippery conditions.\"\n",
    "\n",
    "documents = [DOCUMENT1, DOCUMENT2, DOCUMENT3]"
   ]
  },
  {
   "cell_type": "markdown",
   "id": "13532d3b",
   "metadata": {
    "id": "yDzxArLeOexD",
    "papermill": {
     "duration": 0.008178,
     "end_time": "2024-11-13T14:51:32.107158",
     "exception": false,
     "start_time": "2024-11-13T14:51:32.098980",
     "status": "completed"
    },
    "tags": []
   },
   "source": [
    "## Creating the embedding database with ChromaDB\n",
    "\n",
    "Create a [custom function](https://docs.trychroma.com/guides/embeddings#custom-embedding-functions) to generate embeddings with the Gemini API. In this task, you are implementing a retrieval system, so the `task_type` for generating the *document* embeddings is `retrieval_document`. Later, you will use `retrieval_query` for the *query* embeddings. Check out the [API reference](https://ai.google.dev/api/embeddings#v1beta.TaskType) for the full list of supported tasks.\n"
   ]
  },
  {
   "cell_type": "code",
   "execution_count": 7,
   "id": "06cf8aa1",
   "metadata": {
    "execution": {
     "iopub.execute_input": "2024-11-13T14:51:32.126002Z",
     "iopub.status.busy": "2024-11-13T14:51:32.125587Z",
     "iopub.status.idle": "2024-11-13T14:51:33.450227Z",
     "shell.execute_reply": "2024-11-13T14:51:33.449208Z"
    },
    "id": "mF7Uu1kCQsT0",
    "papermill": {
     "duration": 1.337392,
     "end_time": "2024-11-13T14:51:33.453049",
     "exception": false,
     "start_time": "2024-11-13T14:51:32.115657",
     "status": "completed"
    },
    "tags": []
   },
   "outputs": [],
   "source": [
    "from chromadb import Documents, EmbeddingFunction, Embeddings\n",
    "from google.api_core import retry\n",
    "\n",
    "\n",
    "class GeminiEmbeddingFunction(EmbeddingFunction):\n",
    "    # Specify whether to generate embeddings for documents, or queries\n",
    "    document_mode = True\n",
    "\n",
    "    def __call__(self, input: Documents) -> Embeddings:\n",
    "        if self.document_mode:\n",
    "            embedding_task = \"retrieval_document\"\n",
    "        else:\n",
    "            embedding_task = \"retrieval_query\"\n",
    "\n",
    "        retry_policy = {\"retry\": retry.Retry(predicate=retry.if_transient_error)}\n",
    "\n",
    "        response = genai.embed_content(\n",
    "            model=\"models/text-embedding-004\",\n",
    "            content=input,\n",
    "            task_type=embedding_task,\n",
    "            request_options=retry_policy,\n",
    "        )\n",
    "        return response[\"embedding\"]"
   ]
  },
  {
   "cell_type": "markdown",
   "id": "c8c326fe",
   "metadata": {
    "id": "HrDWLyopPNBf",
    "papermill": {
     "duration": 0.008069,
     "end_time": "2024-11-13T14:51:33.469761",
     "exception": false,
     "start_time": "2024-11-13T14:51:33.461692",
     "status": "completed"
    },
    "tags": []
   },
   "source": [
    "Now create a [Chroma database client](https://docs.trychroma.com/getting-started) that uses the `GeminiEmbeddingFunction` and populate the database with the documents you defined above."
   ]
  },
  {
   "cell_type": "code",
   "execution_count": 8,
   "id": "6c46fe23",
   "metadata": {
    "execution": {
     "iopub.execute_input": "2024-11-13T14:51:33.488520Z",
     "iopub.status.busy": "2024-11-13T14:51:33.488083Z",
     "iopub.status.idle": "2024-11-13T14:51:34.198720Z",
     "shell.execute_reply": "2024-11-13T14:51:34.197427Z"
    },
    "id": "OITXgxZlLoXU",
    "papermill": {
     "duration": 0.723283,
     "end_time": "2024-11-13T14:51:34.201610",
     "exception": false,
     "start_time": "2024-11-13T14:51:33.478327",
     "status": "completed"
    },
    "tags": []
   },
   "outputs": [],
   "source": [
    "import chromadb\n",
    "\n",
    "DB_NAME = \"googlecardb\"\n",
    "embed_fn = GeminiEmbeddingFunction()\n",
    "embed_fn.document_mode = True\n",
    "\n",
    "chroma_client = chromadb.Client()\n",
    "db = chroma_client.get_or_create_collection(name=DB_NAME, embedding_function=embed_fn)\n",
    "\n",
    "db.add(documents=documents, ids=[str(i) for i in range(len(documents))])"
   ]
  },
  {
   "cell_type": "markdown",
   "id": "25b621f9",
   "metadata": {
    "id": "2QbwFgfXp-fL",
    "papermill": {
     "duration": 0.008484,
     "end_time": "2024-11-13T14:51:34.218607",
     "exception": false,
     "start_time": "2024-11-13T14:51:34.210123",
     "status": "completed"
    },
    "tags": []
   },
   "source": [
    "Confirm that the data was inserted by looking at the database."
   ]
  },
  {
   "cell_type": "code",
   "execution_count": 9,
   "id": "36c43117",
   "metadata": {
    "execution": {
     "iopub.execute_input": "2024-11-13T14:51:34.239227Z",
     "iopub.status.busy": "2024-11-13T14:51:34.237656Z",
     "iopub.status.idle": "2024-11-13T14:51:34.250762Z",
     "shell.execute_reply": "2024-11-13T14:51:34.249722Z"
    },
    "id": "kQ9PHUL_l-hf",
    "papermill": {
     "duration": 0.026053,
     "end_time": "2024-11-13T14:51:34.253210",
     "exception": false,
     "start_time": "2024-11-13T14:51:34.227157",
     "status": "completed"
    },
    "tags": []
   },
   "outputs": [
    {
     "data": {
      "text/plain": [
       "3"
      ]
     },
     "execution_count": 9,
     "metadata": {},
     "output_type": "execute_result"
    }
   ],
   "source": [
    "db.count()\n",
    "# You can peek at the data too.\n",
    "# db.peek(1)"
   ]
  },
  {
   "cell_type": "markdown",
   "id": "490c74b2",
   "metadata": {
    "id": "Tu5zRErgsQ8u",
    "papermill": {
     "duration": 0.008298,
     "end_time": "2024-11-13T14:51:34.270602",
     "exception": false,
     "start_time": "2024-11-13T14:51:34.262304",
     "status": "completed"
    },
    "tags": []
   },
   "source": [
    "## Retrieval: Find relevant documents\n",
    "\n",
    "To search the Chroma database, call the `query` method. Note that you also switch to the `retrieval_query` mode of embedding generation.\n"
   ]
  },
  {
   "cell_type": "code",
   "execution_count": 10,
   "id": "96b9eb87",
   "metadata": {
    "execution": {
     "iopub.execute_input": "2024-11-13T14:51:34.289783Z",
     "iopub.status.busy": "2024-11-13T14:51:34.289301Z",
     "iopub.status.idle": "2024-11-13T14:51:34.770912Z",
     "shell.execute_reply": "2024-11-13T14:51:34.769709Z"
    },
    "id": "gQdJMbTSLtKE",
    "papermill": {
     "duration": 0.494257,
     "end_time": "2024-11-13T14:51:34.773675",
     "exception": false,
     "start_time": "2024-11-13T14:51:34.279418",
     "status": "completed"
    },
    "tags": []
   },
   "outputs": [
    {
     "data": {
      "text/markdown": [
       "Your Googlecar has a large touchscreen display that provides access to a variety of features, including navigation, entertainment, and climate control. To use the touchscreen display, simply touch the desired icon.  For example, you can touch the \"Navigation\" icon to get directions to your destination or touch the \"Music\" icon to play your favorite songs."
      ],
      "text/plain": [
       "<IPython.core.display.Markdown object>"
      ]
     },
     "execution_count": 10,
     "metadata": {},
     "output_type": "execute_result"
    }
   ],
   "source": [
    "# Switch to query mode when generating embeddings.\n",
    "embed_fn.document_mode = False\n",
    "\n",
    "# Search the Chroma DB using the specified query.\n",
    "query = \"How do you use the touchscreen to play music?\"\n",
    "\n",
    "result = db.query(query_texts=[query], n_results=1)\n",
    "[[passage]] = result[\"documents\"]\n",
    "\n",
    "Markdown(passage)"
   ]
  },
  {
   "cell_type": "markdown",
   "id": "208cd3e3",
   "metadata": {
    "id": "s8PNRMpOQkm5",
    "papermill": {
     "duration": 0.008901,
     "end_time": "2024-11-13T14:51:34.791459",
     "exception": false,
     "start_time": "2024-11-13T14:51:34.782558",
     "status": "completed"
    },
    "tags": []
   },
   "source": [
    "## Augmented generation: Answer the question\n",
    "\n",
    "Now that you have found a relevant passage from the set of documents (the *retrieval* step), you can now assemble a generation prompt to have the Gemini API *generate* a final answer. Note that in this example only a single passage was retrieved. In practice, especially when the size of your underlying data is large, you will want to retrieve more than one result and let the Gemini model determine what passages are relevant in answering the question. For this reason it's OK if some retrieved passages are not directly related to the question - this generation step should ignore them."
   ]
  },
  {
   "cell_type": "code",
   "execution_count": 11,
   "id": "1f254aa1",
   "metadata": {
    "execution": {
     "iopub.execute_input": "2024-11-13T14:51:34.810708Z",
     "iopub.status.busy": "2024-11-13T14:51:34.810278Z",
     "iopub.status.idle": "2024-11-13T14:51:34.818160Z",
     "shell.execute_reply": "2024-11-13T14:51:34.816951Z"
    },
    "id": "b6_Y-GOymaXu",
    "papermill": {
     "duration": 0.020601,
     "end_time": "2024-11-13T14:51:34.820821",
     "exception": false,
     "start_time": "2024-11-13T14:51:34.800220",
     "status": "completed"
    },
    "tags": []
   },
   "outputs": [
    {
     "name": "stdout",
     "output_type": "stream",
     "text": [
      "You are a helpful and informative bot that answers questions using text from the reference passage included below. \n",
      "Be sure to respond in a complete sentence, being comprehensive, including all relevant background information. \n",
      "However, you are talking to a non-technical audience, so be sure to break down complicated concepts and \n",
      "strike a friendly and converstional tone. If the passage is irrelevant to the answer, you may ignore it.\n",
      "\n",
      "QUESTION: How do you use the touchscreen to play music?\n",
      "PASSAGE: Your Googlecar has a large touchscreen display that provides access to a variety of features, including navigation, entertainment, and climate control. To use the touchscreen display, simply touch the desired icon.  For example, you can touch the \"Navigation\" icon to get directions to your destination or touch the \"Music\" icon to play your favorite songs.\n",
      "\n"
     ]
    }
   ],
   "source": [
    "passage_oneline = passage.replace(\"\\n\", \" \")\n",
    "query_oneline = query.replace(\"\\n\", \" \")\n",
    "\n",
    "# This prompt is where you can specify any guidance on tone, or what topics the model should stick to, or avoid.\n",
    "prompt = f\"\"\"You are a helpful and informative bot that answers questions using text from the reference passage included below. \n",
    "Be sure to respond in a complete sentence, being comprehensive, including all relevant background information. \n",
    "However, you are talking to a non-technical audience, so be sure to break down complicated concepts and \n",
    "strike a friendly and converstional tone. If the passage is irrelevant to the answer, you may ignore it.\n",
    "\n",
    "QUESTION: {query_oneline}\n",
    "PASSAGE: {passage_oneline}\n",
    "\"\"\"\n",
    "print(prompt)"
   ]
  },
  {
   "cell_type": "markdown",
   "id": "1183d12c",
   "metadata": {
    "id": "VRy6yXzcPxLB",
    "papermill": {
     "duration": 0.008622,
     "end_time": "2024-11-13T14:51:34.838292",
     "exception": false,
     "start_time": "2024-11-13T14:51:34.829670",
     "status": "completed"
    },
    "tags": []
   },
   "source": [
    "Now use the `generate_content` method to to generate an answer to the question."
   ]
  },
  {
   "cell_type": "code",
   "execution_count": 12,
   "id": "ce6a2084",
   "metadata": {
    "execution": {
     "iopub.execute_input": "2024-11-13T14:51:34.857949Z",
     "iopub.status.busy": "2024-11-13T14:51:34.857520Z",
     "iopub.status.idle": "2024-11-13T14:51:35.529936Z",
     "shell.execute_reply": "2024-11-13T14:51:35.528772Z"
    },
    "id": "EwfyxFM6Giy9",
    "papermill": {
     "duration": 0.685077,
     "end_time": "2024-11-13T14:51:35.532341",
     "exception": false,
     "start_time": "2024-11-13T14:51:34.847264",
     "status": "completed"
    },
    "tags": []
   },
   "outputs": [
    {
     "data": {
      "text/markdown": [
       "To play music, simply tap the \"Music\" icon on the touchscreen. \n"
      ],
      "text/plain": [
       "<IPython.core.display.Markdown object>"
      ]
     },
     "execution_count": 12,
     "metadata": {},
     "output_type": "execute_result"
    }
   ],
   "source": [
    "model = genai.GenerativeModel(\"gemini-1.5-flash-latest\")\n",
    "answer = model.generate_content(prompt)\n",
    "Markdown(answer.text)"
   ]
  },
  {
   "cell_type": "markdown",
   "id": "031abeea",
   "metadata": {
    "id": "ThTbjAJ7eGP5",
    "papermill": {
     "duration": 0.008799,
     "end_time": "2024-11-13T14:51:35.550135",
     "exception": false,
     "start_time": "2024-11-13T14:51:35.541336",
     "status": "completed"
    },
    "tags": []
   },
   "source": [
    "## Next steps\n",
    "\n",
    "Congrats on building a Retrieval-Augmented Generation app!\n",
    "\n",
    "To learn more about using embeddings in the Gemini API, check out the [Intro to embeddings](https://ai.google.dev/gemini-api/docs/embeddings) or to learn more fundamentals, study the [embeddings chapter](https://developers.google.com/machine-learning/crash-course/embeddings) of the Machine Learning Crash Course.\n",
    "\n",
    "For a hosted RAG system, check out the [Semantic Retrieval service](https://ai.google.dev/gemini-api/docs/semantic_retrieval) in the Gemini API. You can implement question-answering on your own documents in a single request, or host a database for even faster responses."
   ]
  }
 ],
 "metadata": {
  "colab": {
   "name": "day-2-document-q-a-with-rag.ipynb",
   "toc_visible": true
  },
  "kaggle": {
   "accelerator": "none",
   "dataSources": [],
   "dockerImageVersionId": 30786,
   "isGpuEnabled": false,
   "isInternetEnabled": true,
   "language": "python",
   "sourceType": "notebook"
  },
  "kernelspec": {
   "display_name": "Python 3",
   "language": "python",
   "name": "python3"
  },
  "language_info": {
   "codemirror_mode": {
    "name": "ipython",
    "version": 3
   },
   "file_extension": ".py",
   "mimetype": "text/x-python",
   "name": "python",
   "nbconvert_exporter": "python",
   "pygments_lexer": "ipython3",
   "version": "3.10.14"
  },
  "papermill": {
   "default_parameters": {},
   "duration": 66.089614,
   "end_time": "2024-11-13T14:51:36.481242",
   "environment_variables": {},
   "exception": null,
   "input_path": "__notebook__.ipynb",
   "output_path": "__notebook__.ipynb",
   "parameters": {},
   "start_time": "2024-11-13T14:50:30.391628",
   "version": "2.6.0"
  }
 },
 "nbformat": 4,
 "nbformat_minor": 5
}
